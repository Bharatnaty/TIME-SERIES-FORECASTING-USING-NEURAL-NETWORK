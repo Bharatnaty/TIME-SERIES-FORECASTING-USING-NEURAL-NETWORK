{
 "cells": [
  {
   "cell_type": "code",
   "execution_count": null,
   "metadata": {
    "id": "KUwCt9ufN1nG"
   },
   "outputs": [],
   "source": [
    "import pandas as pd\n",
    "import numpy as np\n",
    "import tensorflow as tf\n",
    "import keras   "
   ]
  },
  {
   "cell_type": "code",
   "execution_count": null,
   "metadata": {
    "colab": {
     "base_uri": "https://localhost:8080/",
     "height": 204
    },
    "id": "Pj0WgnNkTLLu",
    "outputId": "29dc5ce4-1710-4e56-ba87-e2a26294d7b1"
   },
   "outputs": [
    {
     "data": {
      "text/html": [
       "<div>\n",
       "<style scoped>\n",
       "    .dataframe tbody tr th:only-of-type {\n",
       "        vertical-align: middle;\n",
       "    }\n",
       "\n",
       "    .dataframe tbody tr th {\n",
       "        vertical-align: top;\n",
       "    }\n",
       "\n",
       "    .dataframe thead th {\n",
       "        text-align: right;\n",
       "    }\n",
       "</style>\n",
       "<table border=\"1\" class=\"dataframe\">\n",
       "  <thead>\n",
       "    <tr style=\"text-align: right;\">\n",
       "      <th></th>\n",
       "      <th>Date</th>\n",
       "      <th>Open</th>\n",
       "      <th>High</th>\n",
       "      <th>Low</th>\n",
       "      <th>Close</th>\n",
       "      <th>Volume</th>\n",
       "      <th>Name</th>\n",
       "    </tr>\n",
       "  </thead>\n",
       "  <tbody>\n",
       "    <tr>\n",
       "      <th>0</th>\n",
       "      <td>2006-01-03</td>\n",
       "      <td>82.45</td>\n",
       "      <td>82.55</td>\n",
       "      <td>80.81</td>\n",
       "      <td>82.06</td>\n",
       "      <td>11715200</td>\n",
       "      <td>IBM</td>\n",
       "    </tr>\n",
       "    <tr>\n",
       "      <th>1</th>\n",
       "      <td>2006-01-04</td>\n",
       "      <td>82.20</td>\n",
       "      <td>82.50</td>\n",
       "      <td>81.33</td>\n",
       "      <td>81.95</td>\n",
       "      <td>9840600</td>\n",
       "      <td>IBM</td>\n",
       "    </tr>\n",
       "    <tr>\n",
       "      <th>2</th>\n",
       "      <td>2006-01-05</td>\n",
       "      <td>81.40</td>\n",
       "      <td>82.90</td>\n",
       "      <td>81.00</td>\n",
       "      <td>82.50</td>\n",
       "      <td>7213500</td>\n",
       "      <td>IBM</td>\n",
       "    </tr>\n",
       "    <tr>\n",
       "      <th>3</th>\n",
       "      <td>2006-01-06</td>\n",
       "      <td>83.95</td>\n",
       "      <td>85.03</td>\n",
       "      <td>83.41</td>\n",
       "      <td>84.95</td>\n",
       "      <td>8197400</td>\n",
       "      <td>IBM</td>\n",
       "    </tr>\n",
       "    <tr>\n",
       "      <th>4</th>\n",
       "      <td>2006-01-09</td>\n",
       "      <td>84.10</td>\n",
       "      <td>84.25</td>\n",
       "      <td>83.38</td>\n",
       "      <td>83.73</td>\n",
       "      <td>6858200</td>\n",
       "      <td>IBM</td>\n",
       "    </tr>\n",
       "  </tbody>\n",
       "</table>\n",
       "</div>"
      ],
      "text/plain": [
       "         Date   Open   High    Low  Close    Volume Name\n",
       "0  2006-01-03  82.45  82.55  80.81  82.06  11715200  IBM\n",
       "1  2006-01-04  82.20  82.50  81.33  81.95   9840600  IBM\n",
       "2  2006-01-05  81.40  82.90  81.00  82.50   7213500  IBM\n",
       "3  2006-01-06  83.95  85.03  83.41  84.95   8197400  IBM\n",
       "4  2006-01-09  84.10  84.25  83.38  83.73   6858200  IBM"
      ]
     },
     "execution_count": 2,
     "metadata": {
      "tags": []
     },
     "output_type": "execute_result"
    }
   ],
   "source": [
    "data=pd.read_csv(\"/content/IBM_2006-01-01_to_2018-01-01.csv\")\n",
    "data.head()"
   ]
  },
  {
   "cell_type": "code",
   "execution_count": null,
   "metadata": {
    "colab": {
     "base_uri": "https://localhost:8080/"
    },
    "id": "WA9HpRtKTTAf",
    "outputId": "0f890514-1fb0-4fd3-8a0d-f2f1c11c1b10"
   },
   "outputs": [
    {
     "data": {
      "text/plain": [
       "Date      0\n",
       "Open      1\n",
       "High      0\n",
       "Low       1\n",
       "Close     0\n",
       "Volume    0\n",
       "Name      0\n",
       "dtype: int64"
      ]
     },
     "execution_count": 3,
     "metadata": {
      "tags": []
     },
     "output_type": "execute_result"
    }
   ],
   "source": [
    "data.isnull().sum()"
   ]
  },
  {
   "cell_type": "code",
   "execution_count": null,
   "metadata": {
    "id": "gvseMw6ITYiZ"
   },
   "outputs": [],
   "source": [
    "data[\"Open\"].fillna(data[\"Open\"].median(),inplace=True)"
   ]
  },
  {
   "cell_type": "code",
   "execution_count": null,
   "metadata": {
    "colab": {
     "base_uri": "https://localhost:8080/",
     "height": 235
    },
    "id": "YSHVbvRlUIK0",
    "outputId": "304cfd76-e8a0-4c40-9f47-4ed0ebe0aff0"
   },
   "outputs": [
    {
     "data": {
      "text/html": [
       "<div>\n",
       "<style scoped>\n",
       "    .dataframe tbody tr th:only-of-type {\n",
       "        vertical-align: middle;\n",
       "    }\n",
       "\n",
       "    .dataframe tbody tr th {\n",
       "        vertical-align: top;\n",
       "    }\n",
       "\n",
       "    .dataframe thead th {\n",
       "        text-align: right;\n",
       "    }\n",
       "</style>\n",
       "<table border=\"1\" class=\"dataframe\">\n",
       "  <thead>\n",
       "    <tr style=\"text-align: right;\">\n",
       "      <th></th>\n",
       "      <th>Open</th>\n",
       "      <th>High</th>\n",
       "      <th>Low</th>\n",
       "      <th>Close</th>\n",
       "      <th>Volume</th>\n",
       "      <th>Name</th>\n",
       "    </tr>\n",
       "    <tr>\n",
       "      <th>Date</th>\n",
       "      <th></th>\n",
       "      <th></th>\n",
       "      <th></th>\n",
       "      <th></th>\n",
       "      <th></th>\n",
       "      <th></th>\n",
       "    </tr>\n",
       "  </thead>\n",
       "  <tbody>\n",
       "    <tr>\n",
       "      <th>2006-01-03</th>\n",
       "      <td>82.45</td>\n",
       "      <td>82.55</td>\n",
       "      <td>80.81</td>\n",
       "      <td>82.06</td>\n",
       "      <td>11715200</td>\n",
       "      <td>IBM</td>\n",
       "    </tr>\n",
       "    <tr>\n",
       "      <th>2006-01-04</th>\n",
       "      <td>82.20</td>\n",
       "      <td>82.50</td>\n",
       "      <td>81.33</td>\n",
       "      <td>81.95</td>\n",
       "      <td>9840600</td>\n",
       "      <td>IBM</td>\n",
       "    </tr>\n",
       "    <tr>\n",
       "      <th>2006-01-05</th>\n",
       "      <td>81.40</td>\n",
       "      <td>82.90</td>\n",
       "      <td>81.00</td>\n",
       "      <td>82.50</td>\n",
       "      <td>7213500</td>\n",
       "      <td>IBM</td>\n",
       "    </tr>\n",
       "    <tr>\n",
       "      <th>2006-01-06</th>\n",
       "      <td>83.95</td>\n",
       "      <td>85.03</td>\n",
       "      <td>83.41</td>\n",
       "      <td>84.95</td>\n",
       "      <td>8197400</td>\n",
       "      <td>IBM</td>\n",
       "    </tr>\n",
       "    <tr>\n",
       "      <th>2006-01-09</th>\n",
       "      <td>84.10</td>\n",
       "      <td>84.25</td>\n",
       "      <td>83.38</td>\n",
       "      <td>83.73</td>\n",
       "      <td>6858200</td>\n",
       "      <td>IBM</td>\n",
       "    </tr>\n",
       "  </tbody>\n",
       "</table>\n",
       "</div>"
      ],
      "text/plain": [
       "             Open   High    Low  Close    Volume Name\n",
       "Date                                                 \n",
       "2006-01-03  82.45  82.55  80.81  82.06  11715200  IBM\n",
       "2006-01-04  82.20  82.50  81.33  81.95   9840600  IBM\n",
       "2006-01-05  81.40  82.90  81.00  82.50   7213500  IBM\n",
       "2006-01-06  83.95  85.03  83.41  84.95   8197400  IBM\n",
       "2006-01-09  84.10  84.25  83.38  83.73   6858200  IBM"
      ]
     },
     "execution_count": 5,
     "metadata": {
      "tags": []
     },
     "output_type": "execute_result"
    }
   ],
   "source": [
    "data = pd.read_csv(\"/content/IBM_2006-01-01_to_2018-01-01.csv\", index_col='Date', parse_dates=[\"Date\"])\n",
    "data.head()"
   ]
  },
  {
   "cell_type": "code",
   "execution_count": null,
   "metadata": {
    "id": "ArXW_MelWDIm"
   },
   "outputs": [],
   "source": [
    "train = data[:'2016'].iloc[:,1:2].values\n",
    "test = data['2017':].iloc[:,1:2].values"
   ]
  },
  {
   "cell_type": "code",
   "execution_count": null,
   "metadata": {
    "id": "04DXmGW5WDFK"
   },
   "outputs": [],
   "source": [
    "from sklearn.preprocessing import MinMaxScaler\n",
    "from sklearn.metrics import mean_squared_error\n",
    "sc = MinMaxScaler(feature_range=(0,1))\n",
    "train_scaled = sc.fit_transform(train)"
   ]
  },
  {
   "cell_type": "code",
   "execution_count": null,
   "metadata": {
    "colab": {
     "base_uri": "https://localhost:8080/"
    },
    "id": "GyD2NNUrh8Ru",
    "outputId": "78b6935e-fc66-4d0b-a579-2af426ea7487"
   },
   "outputs": [
    {
     "data": {
      "text/plain": [
       "array([[0.06065089],\n",
       "       [0.06029868],\n",
       "       [0.06311637],\n",
       "       ...,\n",
       "       [0.66074951],\n",
       "       [0.65546633],\n",
       "       [0.6534235 ]])"
      ]
     },
     "execution_count": 24,
     "metadata": {
      "tags": []
     },
     "output_type": "execute_result"
    }
   ],
   "source": [
    "train_scaled"
   ]
  },
  {
   "cell_type": "code",
   "execution_count": null,
   "metadata": {
    "id": "B_zrynH1WDBz"
   },
   "outputs": [],
   "source": [
    "x_train = []\n",
    "y_train = []\n",
    "\n",
    "for i in range(60,2769):\n",
    "    x_train.append(train_scaled[i-60:i, 0])\n",
    "    y_train.append(train_scaled[i,0])"
   ]
  },
  {
   "cell_type": "code",
   "execution_count": null,
   "metadata": {
    "id": "AWslan3JWC-S"
   },
   "outputs": [],
   "source": [
    "x_train, y_train = np.array(x_train), np.array(y_train)"
   ]
  },
  {
   "cell_type": "code",
   "execution_count": null,
   "metadata": {
    "id": "BSR_6zD-YBlc"
   },
   "outputs": [],
   "source": [
    "x_train = np.reshape(x_train, (x_train.shape[0], x_train.shape[1], 1))"
   ]
  },
  {
   "cell_type": "code",
   "execution_count": null,
   "metadata": {
    "colab": {
     "base_uri": "https://localhost:8080/"
    },
    "id": "0i3w9PefYBiU",
    "outputId": "c1ac6e09-5f53-4fe2-9700-47fe11f5649a"
   },
   "outputs": [
    {
     "data": {
      "text/plain": [
       "(2709, 60, 1)"
      ]
     },
     "execution_count": 11,
     "metadata": {
      "tags": []
     },
     "output_type": "execute_result"
    }
   ],
   "source": [
    "x_train.shape"
   ]
  },
  {
   "cell_type": "code",
   "execution_count": null,
   "metadata": {
    "id": "kFnHCP6GYBgD"
   },
   "outputs": [],
   "source": []
  },
  {
   "cell_type": "code",
   "execution_count": null,
   "metadata": {
    "id": "zcBQrQP9YBdF"
   },
   "outputs": [],
   "source": []
  },
  {
   "cell_type": "code",
   "execution_count": null,
   "metadata": {
    "id": "QxqCq7uFYBZL"
   },
   "outputs": [],
   "source": []
  },
  {
   "cell_type": "code",
   "execution_count": null,
   "metadata": {
    "id": "x4z8ZppQQri5"
   },
   "outputs": [],
   "source": [
    "model=keras.models.Sequential()\n",
    "model.add(tf.keras.layers.SimpleRNN(50,return_sequences=True,input_shape=(x_train.shape[1],1),activation=\"tanh\"))\n",
    "model.add(tf.keras.layers.Dropout(0.2))\n",
    "model.add(tf.keras.layers.SimpleRNN(50,return_sequences=True,input_shape=(x_train.shape[1],1),activation=\"tanh\"))\n",
    "model.add(tf.keras.layers.Dropout(0.2))\n",
    "model.add(tf.keras.layers.GRU(50,return_sequences=True,input_shape=(x_train.shape[1],1),activation=\"tanh\"))\n",
    "model.add(tf.keras.layers.Dropout(0.2))\n",
    "model.add(tf.keras.layers.GRU(50,input_shape=(x_train.shape[1],1),activation=\"tanh\"))\n",
    "model.add(tf.keras.layers.Dropout(0.2))\n",
    "model.add(tf.keras.layers.Dense(1))"
   ]
  },
  {
   "cell_type": "code",
   "execution_count": null,
   "metadata": {
    "id": "r32pko4XQ2Y-"
   },
   "outputs": [],
   "source": [
    "model.compile(optimizer='rmsprop', loss='mean_squared_error')"
   ]
  },
  {
   "cell_type": "code",
   "execution_count": null,
   "metadata": {
    "colab": {
     "base_uri": "https://localhost:8080/"
    },
    "id": "Rjg82iHHZkgD",
    "outputId": "500f9d9e-ebe2-4dc9-dbb6-dda8b62ad56d"
   },
   "outputs": [
    {
     "name": "stdout",
     "output_type": "stream",
     "text": [
      "Epoch 1/5\n",
      "85/85 [==============================] - 14s 90ms/step - loss: 0.0853\n",
      "Epoch 2/5\n",
      "85/85 [==============================] - 8s 93ms/step - loss: 0.0174\n",
      "Epoch 3/5\n",
      "85/85 [==============================] - 8s 94ms/step - loss: 0.0106\n",
      "Epoch 4/5\n",
      "85/85 [==============================] - 8s 93ms/step - loss: 0.0074\n",
      "Epoch 5/5\n",
      "85/85 [==============================] - 8s 93ms/step - loss: 0.0083\n"
     ]
    },
    {
     "data": {
      "text/plain": [
       "<keras.callbacks.History at 0x7f1c735f4cd0>"
      ]
     },
     "execution_count": 22,
     "metadata": {
      "tags": []
     },
     "output_type": "execute_result"
    }
   ],
   "source": [
    "model.fit(x_train, y_train, epochs=5, batch_size=32)"
   ]
  },
  {
   "cell_type": "code",
   "execution_count": null,
   "metadata": {
    "colab": {
     "base_uri": "https://localhost:8080/"
    },
    "id": "xBTo_8ydZrLV",
    "outputId": "3a7c29c4-e3fb-4643-a1db-21fa967d7bdb"
   },
   "outputs": [
    {
     "name": "stdout",
     "output_type": "stream",
     "text": [
      "Model: \"sequential_2\"\n",
      "_________________________________________________________________\n",
      "Layer (type)                 Output Shape              Param #   \n",
      "=================================================================\n",
      "module_wrapper_18 (ModuleWra (None, 60, 50)            2600      \n",
      "_________________________________________________________________\n",
      "module_wrapper_19 (ModuleWra (None, 60, 50)            0         \n",
      "_________________________________________________________________\n",
      "module_wrapper_20 (ModuleWra (None, 60, 50)            5050      \n",
      "_________________________________________________________________\n",
      "module_wrapper_21 (ModuleWra (None, 60, 50)            0         \n",
      "_________________________________________________________________\n",
      "module_wrapper_22 (ModuleWra (None, 60, 50)            15300     \n",
      "_________________________________________________________________\n",
      "module_wrapper_23 (ModuleWra (None, 60, 50)            0         \n",
      "_________________________________________________________________\n",
      "module_wrapper_24 (ModuleWra (None, 50)                15300     \n",
      "_________________________________________________________________\n",
      "module_wrapper_25 (ModuleWra (None, 50)                0         \n",
      "_________________________________________________________________\n",
      "module_wrapper_26 (ModuleWra (None, 1)                 51        \n",
      "=================================================================\n",
      "Total params: 38,301\n",
      "Trainable params: 38,301\n",
      "Non-trainable params: 0\n",
      "_________________________________________________________________\n"
     ]
    }
   ],
   "source": [
    "model.summary()"
   ]
  },
  {
   "cell_type": "code",
   "execution_count": null,
   "metadata": {
    "colab": {
     "base_uri": "https://localhost:8080/"
    },
    "id": "BB1c2AGhaGBM",
    "outputId": "d4bb5561-2d76-4705-8eb7-dd9da26c1667"
   },
   "outputs": [
    {
     "name": "stdout",
     "output_type": "stream",
     "text": [
      "(3020,)\n",
      "(311,)\n",
      "(311, 1)\n",
      "(311, 1)\n"
     ]
    }
   ],
   "source": [
    "dataset_total = pd.concat((data['High'][:'2016'], data['High']['2017':]), axis=0)\n",
    "print(dataset_total.shape)\n",
    "\n",
    "inputs = dataset_total[len(dataset_total)-len(test)-60 : ].values\n",
    "print(inputs.shape)\n",
    "inputs = inputs.reshape(-1,1)\n",
    "print(inputs.shape)\n",
    "inputs = sc.transform(inputs)\n",
    "print(inputs.shape)"
   ]
  },
  {
   "cell_type": "code",
   "execution_count": null,
   "metadata": {
    "id": "bY_n-TfqaZCK"
   },
   "outputs": [],
   "source": [
    "x_test = []\n",
    "for i in range(60,311):\n",
    "    x_test.append(inputs[i-60:i, 0])\n",
    "    \n",
    "x_test = np.array(x_test)\n",
    "x_test = np.reshape(x_test, (x_test.shape[0], x_test.shape[1], 1))"
   ]
  },
  {
   "cell_type": "code",
   "execution_count": null,
   "metadata": {
    "colab": {
     "base_uri": "https://localhost:8080/"
    },
    "id": "Vjx7rv36afEc",
    "outputId": "b9c57577-171f-4d4c-c80d-7c6336ba6f63"
   },
   "outputs": [
    {
     "data": {
      "text/plain": [
       "array([[0.6987963 ],\n",
       "       [0.6963246 ],\n",
       "       [0.69691366],\n",
       "       [0.6988259 ],\n",
       "       [0.70460147],\n",
       "       [0.70850176],\n",
       "       [0.71072525],\n",
       "       [0.7095089 ],\n",
       "       [0.7072788 ],\n",
       "       [0.7047804 ],\n",
       "       [0.70533663],\n",
       "       [0.70677006],\n",
       "       [0.70505947],\n",
       "       [0.705007  ],\n",
       "       [0.7055849 ],\n",
       "       [0.7127328 ],\n",
       "       [0.7248397 ],\n",
       "       [0.7398503 ],\n",
       "       [0.75360614],\n",
       "       [0.7618493 ],\n",
       "       [0.76434445],\n",
       "       [0.76283664],\n",
       "       [0.76147145],\n",
       "       [0.75943846],\n",
       "       [0.7605137 ],\n",
       "       [0.76119256],\n",
       "       [0.7613825 ],\n",
       "       [0.762299  ],\n",
       "       [0.7629021 ],\n",
       "       [0.7667253 ],\n",
       "       [0.7716534 ],\n",
       "       [0.77700514],\n",
       "       [0.7823228 ],\n",
       "       [0.7876481 ],\n",
       "       [0.79001105],\n",
       "       [0.79206973],\n",
       "       [0.79403645],\n",
       "       [0.7951145 ],\n",
       "       [0.7972393 ],\n",
       "       [0.79552853],\n",
       "       [0.79427147],\n",
       "       [0.7933092 ],\n",
       "       [0.79398066],\n",
       "       [0.7941101 ],\n",
       "       [0.7942979 ],\n",
       "       [0.79428995],\n",
       "       [0.7919701 ],\n",
       "       [0.78955543],\n",
       "       [0.7853374 ],\n",
       "       [0.78239447],\n",
       "       [0.77707267],\n",
       "       [0.7731115 ],\n",
       "       [0.7704224 ],\n",
       "       [0.7689088 ],\n",
       "       [0.76658386],\n",
       "       [0.76308894],\n",
       "       [0.7601933 ],\n",
       "       [0.75778323],\n",
       "       [0.7564452 ],\n",
       "       [0.7544127 ],\n",
       "       [0.7535357 ],\n",
       "       [0.75139576],\n",
       "       [0.75006115],\n",
       "       [0.7495669 ],\n",
       "       [0.7499603 ],\n",
       "       [0.75117785],\n",
       "       [0.7512796 ],\n",
       "       [0.7500808 ],\n",
       "       [0.7469131 ],\n",
       "       [0.7420777 ],\n",
       "       [0.737583  ],\n",
       "       [0.73371065],\n",
       "       [0.73060757],\n",
       "       [0.72961277],\n",
       "       [0.7241449 ],\n",
       "       [0.71166587],\n",
       "       [0.6962551 ],\n",
       "       [0.68202466],\n",
       "       [0.6723055 ],\n",
       "       [0.6676595 ],\n",
       "       [0.66311634],\n",
       "       [0.65897447],\n",
       "       [0.65445167],\n",
       "       [0.6483989 ],\n",
       "       [0.64658797],\n",
       "       [0.64727354],\n",
       "       [0.6449455 ],\n",
       "       [0.6384395 ],\n",
       "       [0.6264678 ],\n",
       "       [0.61413854],\n",
       "       [0.6060384 ],\n",
       "       [0.5986759 ],\n",
       "       [0.59517455],\n",
       "       [0.59416115],\n",
       "       [0.5927336 ],\n",
       "       [0.59307194],\n",
       "       [0.59177953],\n",
       "       [0.59076005],\n",
       "       [0.5942249 ],\n",
       "       [0.5968988 ],\n",
       "       [0.5978524 ],\n",
       "       [0.5993714 ],\n",
       "       [0.59923774],\n",
       "       [0.59752953],\n",
       "       [0.59738964],\n",
       "       [0.5972162 ],\n",
       "       [0.59748435],\n",
       "       [0.59818876],\n",
       "       [0.5963559 ],\n",
       "       [0.5964233 ],\n",
       "       [0.59787875],\n",
       "       [0.6010312 ],\n",
       "       [0.60597765],\n",
       "       [0.61130106],\n",
       "       [0.6124908 ],\n",
       "       [0.6118206 ],\n",
       "       [0.6115279 ],\n",
       "       [0.6118366 ],\n",
       "       [0.61362636],\n",
       "       [0.6144697 ],\n",
       "       [0.61564505],\n",
       "       [0.61323196],\n",
       "       [0.6112067 ],\n",
       "       [0.61130923],\n",
       "       [0.6131958 ],\n",
       "       [0.61502105],\n",
       "       [0.6142639 ],\n",
       "       [0.6135385 ],\n",
       "       [0.6119441 ],\n",
       "       [0.6099133 ],\n",
       "       [0.60807335],\n",
       "       [0.6060792 ],\n",
       "       [0.6043848 ],\n",
       "       [0.60374206],\n",
       "       [0.60358715],\n",
       "       [0.60398567],\n",
       "       [0.60443556],\n",
       "       [0.60187155],\n",
       "       [0.5965536 ],\n",
       "       [0.58730716],\n",
       "       [0.5764936 ],\n",
       "       [0.5681712 ],\n",
       "       [0.5613727 ],\n",
       "       [0.5570446 ],\n",
       "       [0.55188024],\n",
       "       [0.54601794],\n",
       "       [0.5408991 ],\n",
       "       [0.5387701 ],\n",
       "       [0.53865254],\n",
       "       [0.5403577 ],\n",
       "       [0.5409132 ],\n",
       "       [0.5381202 ],\n",
       "       [0.53449446],\n",
       "       [0.5290823 ],\n",
       "       [0.5248616 ],\n",
       "       [0.52410376],\n",
       "       [0.5242621 ],\n",
       "       [0.5231352 ],\n",
       "       [0.5236788 ],\n",
       "       [0.52080387],\n",
       "       [0.51656574],\n",
       "       [0.51351595],\n",
       "       [0.51274186],\n",
       "       [0.5157117 ],\n",
       "       [0.5199122 ],\n",
       "       [0.52413744],\n",
       "       [0.5270629 ],\n",
       "       [0.52829486],\n",
       "       [0.5276105 ],\n",
       "       [0.5283783 ],\n",
       "       [0.53042173],\n",
       "       [0.53261983],\n",
       "       [0.5340396 ],\n",
       "       [0.53274137],\n",
       "       [0.5319454 ],\n",
       "       [0.53319657],\n",
       "       [0.5368999 ],\n",
       "       [0.541964  ],\n",
       "       [0.5449497 ],\n",
       "       [0.5442072 ],\n",
       "       [0.54161316],\n",
       "       [0.54002416],\n",
       "       [0.5397217 ],\n",
       "       [0.5425912 ],\n",
       "       [0.5451646 ],\n",
       "       [0.54616874],\n",
       "       [0.5465686 ],\n",
       "       [0.5465165 ],\n",
       "       [0.54691976],\n",
       "       [0.5475251 ],\n",
       "       [0.5487765 ],\n",
       "       [0.5501443 ],\n",
       "       [0.5512954 ],\n",
       "       [0.5516488 ],\n",
       "       [0.5535773 ],\n",
       "       [0.5549302 ],\n",
       "       [0.5573632 ],\n",
       "       [0.5602672 ],\n",
       "       [0.56145275],\n",
       "       [0.56064963],\n",
       "       [0.558334  ],\n",
       "       [0.5646109 ],\n",
       "       [0.5812485 ],\n",
       "       [0.60701853],\n",
       "       [0.62851185],\n",
       "       [0.6420823 ],\n",
       "       [0.6445594 ],\n",
       "       [0.6387797 ],\n",
       "       [0.63046473],\n",
       "       [0.62437135],\n",
       "       [0.62280315],\n",
       "       [0.6184329 ],\n",
       "       [0.61363244],\n",
       "       [0.6054065 ],\n",
       "       [0.59953547],\n",
       "       [0.5949715 ],\n",
       "       [0.59159106],\n",
       "       [0.58922374],\n",
       "       [0.5876543 ],\n",
       "       [0.58228517],\n",
       "       [0.5760336 ],\n",
       "       [0.57355845],\n",
       "       [0.57002825],\n",
       "       [0.57271284],\n",
       "       [0.5757565 ],\n",
       "       [0.57761896],\n",
       "       [0.5809555 ],\n",
       "       [0.5832965 ],\n",
       "       [0.58516204],\n",
       "       [0.5894403 ],\n",
       "       [0.5938043 ],\n",
       "       [0.59642124],\n",
       "       [0.6006739 ],\n",
       "       [0.60502166],\n",
       "       [0.6089636 ],\n",
       "       [0.6143767 ],\n",
       "       [0.6155535 ],\n",
       "       [0.61590004],\n",
       "       [0.6141608 ],\n",
       "       [0.6144038 ],\n",
       "       [0.6163947 ],\n",
       "       [0.6179683 ],\n",
       "       [0.61791563],\n",
       "       [0.6145555 ],\n",
       "       [0.60979027],\n",
       "       [0.6051336 ],\n",
       "       [0.60535556],\n",
       "       [0.60261536],\n",
       "       [0.6020689 ],\n",
       "       [0.599659  ],\n",
       "       [0.5969816 ]], dtype=float32)"
      ]
     },
     "execution_count": 27,
     "metadata": {
      "tags": []
     },
     "output_type": "execute_result"
    }
   ],
   "source": [
    "model.predict(x_test)"
   ]
  },
  {
   "cell_type": "code",
   "execution_count": null,
   "metadata": {
    "id": "6Qt-Jg24arWb"
   },
   "outputs": [],
   "source": []
  }
 ],
 "metadata": {
  "colab": {
   "collapsed_sections": [],
   "name": "Sequence ass2q1.ipynb",
   "provenance": []
  },
  "kernelspec": {
   "display_name": "Python 3",
   "language": "python",
   "name": "python3"
  },
  "language_info": {
   "codemirror_mode": {
    "name": "ipython",
    "version": 3
   },
   "file_extension": ".py",
   "mimetype": "text/x-python",
   "name": "python",
   "nbconvert_exporter": "python",
   "pygments_lexer": "ipython3",
   "version": "3.8.5"
  }
 },
 "nbformat": 4,
 "nbformat_minor": 1
}
